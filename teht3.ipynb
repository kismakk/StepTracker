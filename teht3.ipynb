{
 "cells": [
  {
   "cell_type": "code",
   "execution_count": null,
   "metadata": {},
   "outputs": [],
   "source": [
    "import numpy as np\n",
    "import pandas as pd\n",
    "import matplotlib.pyplot as plt\n"
   ]
  },
  {
   "cell_type": "code",
   "execution_count": null,
   "metadata": {},
   "outputs": [],
   "source": [
    "stepdata = pd.read_csv('stepdata.csv')\n",
    "stepdata.head()\n"
   ]
  },
  {
   "cell_type": "code",
   "execution_count": null,
   "metadata": {},
   "outputs": [],
   "source": [
    "plt.figure(figsize = (15,15))\n",
    "\n",
    "plt.subplot(3, 1, 1)\n",
    "plt.plot(stepdata['Time (s)'],stepdata['Linear Acceleration x (m/s^2)']) \n",
    "plt.grid()\n",
    "plt.title('Acceleration x')\n",
    "plt.xlabel('Time')\n",
    "plt.ylabel('a_x')\n",
    "plt.axis([-1,53,-10,10])\n",
    "\n",
    "plt.subplot(3, 1, 2)\n",
    "plt.plot(stepdata['Time (s)'],stepdata['Linear Acceleration y (m/s^2)']) \n",
    "plt.grid()\n",
    "plt.title('Acceleration y')\n",
    "plt.xlabel('Time')\n",
    "plt.ylabel('a_y')\n",
    "plt.axis([-1,53,-10,10])\n",
    "\n",
    "plt.subplot(3, 1, 3)\n",
    "plt.plot(stepdata['Time (s)'],stepdata['Linear Acceleration z (m/s^2)']) \n",
    "plt.grid()\n",
    "plt.title('Acceleration z')\n",
    "plt.xlabel('Time')\n",
    "plt.ylabel('a_z')\n",
    "plt.axis([-1,53,-10,10])"
   ]
  },
  {
   "cell_type": "code",
   "execution_count": null,
   "metadata": {},
   "outputs": [],
   "source": [
    "from scipy.signal import butter, filtfilt"
   ]
  },
  {
   "cell_type": "code",
   "execution_count": null,
   "metadata": {},
   "outputs": [],
   "source": [
    "def butter_lowpass_filter(data, cutoff, fs, nyq, order):\n",
    "    normal_cutoff = cutoff / nyq\n",
    "    b, a = butter(order, normal_cutoff, btype='low', analog=False)\n",
    "    y = filtfilt(b, a, data)\n",
    "    return y\n",
    "\n",
    "def butter_highpass_filter(data, cutoff, fs, nyq, order):\n",
    "    normal_cutoff = cutoff / nyq\n",
    "    b, a = butter(order, normal_cutoff, btype='high', analog=False)\n",
    "    y = filtfilt(b, a, data)\n",
    "    return y\n"
   ]
  },
  {
   "cell_type": "code",
   "execution_count": null,
   "metadata": {},
   "outputs": [],
   "source": [
    "noisy_data = stepdata['Linear Acceleration z (m/s^2)']\n",
    "time = stepdata['Time (s)']\n",
    "\n",
    "dt = (time[len(time)-1] - time[1])/len(time)\n",
    "cutoff_H = 1/0.5\n",
    "cutoff_L = 1/5\n",
    "fs = 1/dt\n",
    "nyq = 0.5 * fs\n",
    "order = 1\n",
    "\n",
    "lowpassed_data = butter_lowpass_filter(noisy_data, cutoff_L, fs, nyq, order)\n",
    "highpassed_data = butter_highpass_filter(noisy_data, cutoff_H, fs, nyq, order)\n",
    "clean_data = noisy_data - lowpassed_data - highpassed_data"
   ]
  },
  {
   "cell_type": "code",
   "execution_count": null,
   "metadata": {},
   "outputs": [],
   "source": [
    "steps = 0\n",
    "for i in range(clean_data.shape[0]-1):\n",
    "    if clean_data[i]/clean_data[i+1] < 0:\n",
    "        steps = steps + 0.5"
   ]
  },
  {
   "cell_type": "code",
   "execution_count": null,
   "metadata": {},
   "outputs": [],
   "source": [
    "step_len = 0.415 * 174\n",
    "dist = round(((steps * step_len) / 100), 2)\n",
    "print(f'Steps: {steps}')\n",
    "print(f'Distance: {dist}m')"
   ]
  },
  {
   "cell_type": "code",
   "execution_count": null,
   "metadata": {},
   "outputs": [],
   "source": [
    "plt.figure(figsize = (15,15))\n",
    "\n",
    "plt.subplot(2, 1, 1)\n",
    "plt.plot(stepdata['Time (s)'], highpassed_data) \n",
    "plt.grid()\n",
    "plt.title('Highpass')\n",
    "plt.xlabel('Time')\n",
    "plt.axis([-1,53,-8,8])\n",
    "\n",
    "plt.subplot(2, 1, 2)\n",
    "plt.plot(stepdata['Time (s)'], lowpassed_data) \n",
    "plt.grid()\n",
    "plt.title('Lowpass')\n",
    "plt.xlabel('Time')\n",
    "plt.axis([-1,53,-1,1])\n",
    "\n",
    "plt.show()"
   ]
  },
  {
   "cell_type": "code",
   "execution_count": null,
   "metadata": {},
   "outputs": [],
   "source": [
    "plt.figure(figsize = (15,15))\n",
    "\n",
    "plt.subplot(2, 1, 1)\n",
    "plt.plot(stepdata['Time (s)'], noisy_data) \n",
    "plt.grid()\n",
    "plt.title('Original signal')\n",
    "plt.xlabel('Time')\n",
    "plt.axis([-1,53,-8,8])\n",
    "\n",
    "plt.subplot(2, 1, 2)\n",
    "plt.plot(stepdata['Time (s)'], clean_data) \n",
    "plt.grid()\n",
    "plt.title('Filtered signal')\n",
    "plt.xlabel('Time')\n",
    "plt.axis([-1,53,-8,8])"
   ]
  }
 ],
 "metadata": {
  "kernelspec": {
   "display_name": "py311",
   "language": "python",
   "name": "python3"
  },
  "language_info": {
   "codemirror_mode": {
    "name": "ipython",
    "version": 3
   },
   "file_extension": ".py",
   "mimetype": "text/x-python",
   "name": "python",
   "nbconvert_exporter": "python",
   "pygments_lexer": "ipython3",
   "version": "3.11.7"
  }
 },
 "nbformat": 4,
 "nbformat_minor": 2
}
